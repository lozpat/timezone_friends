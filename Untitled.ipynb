{
 "cells": [
  {
   "cell_type": "code",
   "execution_count": 1,
   "id": "f3b72754-fa14-40a6-8a23-050244fe3741",
   "metadata": {},
   "outputs": [],
   "source": [
    "import datetime"
   ]
  },
  {
   "cell_type": "code",
   "execution_count": 2,
   "id": "355d4a57-5543-4644-86a1-f8612c07d0f3",
   "metadata": {},
   "outputs": [
    {
     "name": "stdout",
     "output_type": "stream",
     "text": [
      "2022-04-14\n"
     ]
    }
   ],
   "source": [
    "tday = datetime.date.today() # today's date\n",
    "print(tday)"
   ]
  },
  {
   "cell_type": "code",
   "execution_count": 3,
   "id": "586749ea-9da5-4577-b94d-346ce47b6123",
   "metadata": {},
   "outputs": [
    {
     "name": "stdout",
     "output_type": "stream",
     "text": [
      "2022-04-21\n"
     ]
    }
   ],
   "source": [
    "tdelta = datetime.timedelta(days=7)\n",
    "print(tday + tdelta) #today plus 7 days"
   ]
  },
  {
   "cell_type": "code",
   "execution_count": 4,
   "id": "41dd808c-c739-46b8-82e4-74637ec56bda",
   "metadata": {},
   "outputs": [
    {
     "name": "stdout",
     "output_type": "stream",
     "text": [
      "9 days, 0:00:00\n"
     ]
    }
   ],
   "source": [
    "bday = datetime.date(2022, 4, 23)\n",
    "till_bday = bday - tday\n",
    "print(till_bday) # number of days til bday"
   ]
  },
  {
   "cell_type": "code",
   "execution_count": 10,
   "id": "dcf8ef4b-cc74-48ea-a13e-b0458216649e",
   "metadata": {},
   "outputs": [
    {
     "name": "stdout",
     "output_type": "stream",
     "text": [
      "2022-04-14\n"
     ]
    }
   ],
   "source": [
    "tdelta2 = datetime.timedelta(hours=7)\n",
    "print(tday + tdelta2)"
   ]
  },
  {
   "cell_type": "code",
   "execution_count": 6,
   "id": "09a87ef5-e537-44e3-9d47-3ed177a86b8c",
   "metadata": {},
   "outputs": [],
   "source": [
    "dt_today = datetime.datetime.today()\n",
    "dt_now = datetime.datetime.now()\n",
    "dt_utcnow = datetime.datetime.utcnow()"
   ]
  },
  {
   "cell_type": "code",
   "execution_count": 7,
   "id": "4c0d95e6-3606-4f68-acfc-0fa6b79fd9c8",
   "metadata": {},
   "outputs": [
    {
     "name": "stdout",
     "output_type": "stream",
     "text": [
      "2022-04-14 12:09:17.073354\n",
      "2022-04-14 12:09:17.073353\n",
      "2022-04-14 11:09:17.073353\n"
     ]
    }
   ],
   "source": [
    "print(dt_today) # timezone of None\n",
    "print(dt_now) # timezone of None\n",
    "print(dt_utcnow) # timezone of None - must specify explicitly"
   ]
  },
  {
   "cell_type": "code",
   "execution_count": 26,
   "id": "dfe12e7b-648d-4c2a-8189-e8a604d4096f",
   "metadata": {},
   "outputs": [
    {
     "name": "stdout",
     "output_type": "stream",
     "text": [
      "2016-07-27 12:30:45+00:00\n",
      "2022-04-14 13:42:21.672223+00:00\n"
     ]
    }
   ],
   "source": [
    "import pytz\n",
    "dt_pytz = datetime.datetime(2016, 7, 27, 12, 30, 45, tzinfo=pytz.UTC)\n",
    "print(dt_pytz)\n",
    "dt_now_pytz = datetime.datetime.now(tz=pytz.UTC)\n",
    "print(dt_now_pytz)"
   ]
  },
  {
   "cell_type": "code",
   "execution_count": 27,
   "id": "4c5910cb-692c-4023-92ec-f335da21a60f",
   "metadata": {},
   "outputs": [
    {
     "name": "stdout",
     "output_type": "stream",
     "text": [
      "2022-04-14 13:42:21.923210+00:00\n"
     ]
    }
   ],
   "source": [
    "dt_now_pytz = datetime.datetime.now(tz=pytz.UTC)\n",
    "print(dt_now_pytz)"
   ]
  },
  {
   "cell_type": "code",
   "execution_count": 30,
   "id": "a797dcb4-d886-4462-801c-d4d262a9cd7b",
   "metadata": {},
   "outputs": [
    {
     "name": "stdout",
     "output_type": "stream",
     "text": [
      "Europe/London\n",
      "2022-04-14 14:45:11.955166+01:00\n"
     ]
    }
   ],
   "source": [
    "dt_here = datetime.datetime.now()\n",
    "here_tz = pytz.timezone('Europe/London')\n",
    "print(here_tz)\n",
    "dt_here = here_tz.localize(dt_here)\n",
    "print(dt_here) "
   ]
  },
  {
   "cell_type": "code",
   "execution_count": 29,
   "id": "ea7a93c8-a3c3-4c93-b92c-6deda3344534",
   "metadata": {},
   "outputs": [
    {
     "name": "stdout",
     "output_type": "stream",
     "text": [
      "2022-04-14T14:42:22.182001+01:00\n"
     ]
    }
   ],
   "source": [
    "print(dt_here.isoformat())"
   ]
  },
  {
   "cell_type": "code",
   "execution_count": 31,
   "id": "6f45f00b-03db-4149-a312-400203cdbe5c",
   "metadata": {},
   "outputs": [
    {
     "ename": "ModuleNotFoundError",
     "evalue": "No module named 'PySimpleGUI'",
     "output_type": "error",
     "traceback": [
      "\u001b[1;31m---------------------------------------------------------------------------\u001b[0m",
      "\u001b[1;31mModuleNotFoundError\u001b[0m                       Traceback (most recent call last)",
      "\u001b[1;32m~\\AppData\\Local\\Temp/ipykernel_13848/4274509295.py\u001b[0m in \u001b[0;36m<module>\u001b[1;34m\u001b[0m\n\u001b[1;32m----> 1\u001b[1;33m \u001b[1;32mimport\u001b[0m \u001b[0mPySimpleGUI\u001b[0m\u001b[1;33m\u001b[0m\u001b[1;33m\u001b[0m\u001b[0m\n\u001b[0m",
      "\u001b[1;31mModuleNotFoundError\u001b[0m: No module named 'PySimpleGUI'"
     ]
    }
   ],
   "source": [
    "import PySimpleGUI"
   ]
  },
  {
   "cell_type": "code",
   "execution_count": null,
   "id": "9e7801d8-6b6c-4a28-bf4c-258036eb2b30",
   "metadata": {},
   "outputs": [],
   "source": []
  }
 ],
 "metadata": {
  "kernelspec": {
   "display_name": "Python 3 (ipykernel)",
   "language": "python",
   "name": "python3"
  },
  "language_info": {
   "codemirror_mode": {
    "name": "ipython",
    "version": 3
   },
   "file_extension": ".py",
   "mimetype": "text/x-python",
   "name": "python",
   "nbconvert_exporter": "python",
   "pygments_lexer": "ipython3",
   "version": "3.9.7"
  }
 },
 "nbformat": 4,
 "nbformat_minor": 5
}
